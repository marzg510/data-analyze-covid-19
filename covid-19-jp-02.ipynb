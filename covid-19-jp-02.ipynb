{
 "cells": [
  {
   "cell_type": "code",
   "execution_count": 1,
   "metadata": {},
   "outputs": [],
   "source": [
    "import pandas as pd"
   ]
  },
  {
   "cell_type": "code",
   "execution_count": 16,
   "metadata": {},
   "outputs": [
    {
     "data": {
      "text/html": [
       "<div>\n",
       "<style scoped>\n",
       "    .dataframe tbody tr th:only-of-type {\n",
       "        vertical-align: middle;\n",
       "    }\n",
       "\n",
       "    .dataframe tbody tr th {\n",
       "        vertical-align: top;\n",
       "    }\n",
       "\n",
       "    .dataframe thead th {\n",
       "        text-align: right;\n",
       "    }\n",
       "</style>\n",
       "<table border=\"1\" class=\"dataframe\">\n",
       "  <thead>\n",
       "    <tr style=\"text-align: right;\">\n",
       "      <th></th>\n",
       "      <th>日付</th>\n",
       "      <th>PCR 検査陽性者数(単日)</th>\n",
       "      <th>Unnamed: 2</th>\n",
       "      <th>Unnamed: 3</th>\n",
       "    </tr>\n",
       "  </thead>\n",
       "  <tbody>\n",
       "    <tr>\n",
       "      <th>454</th>\n",
       "      <td>2021/4/14</td>\n",
       "      <td>4302</td>\n",
       "      <td>NaN</td>\n",
       "      <td>NaN</td>\n",
       "    </tr>\n",
       "    <tr>\n",
       "      <th>455</th>\n",
       "      <td>2021/4/15</td>\n",
       "      <td>4570</td>\n",
       "      <td>NaN</td>\n",
       "      <td>NaN</td>\n",
       "    </tr>\n",
       "    <tr>\n",
       "      <th>456</th>\n",
       "      <td>2021/4/16</td>\n",
       "      <td>4519</td>\n",
       "      <td>NaN</td>\n",
       "      <td>NaN</td>\n",
       "    </tr>\n",
       "    <tr>\n",
       "      <th>457</th>\n",
       "      <td>2021/4/17</td>\n",
       "      <td>4722</td>\n",
       "      <td>NaN</td>\n",
       "      <td>NaN</td>\n",
       "    </tr>\n",
       "    <tr>\n",
       "      <th>458</th>\n",
       "      <td>2021/4/18</td>\n",
       "      <td>4032</td>\n",
       "      <td>NaN</td>\n",
       "      <td>NaN</td>\n",
       "    </tr>\n",
       "  </tbody>\n",
       "</table>\n",
       "</div>"
      ],
      "text/plain": [
       "            日付  PCR 検査陽性者数(単日)  Unnamed: 2 Unnamed: 3\n",
       "454  2021/4/14            4302         NaN        NaN\n",
       "455  2021/4/15            4570         NaN        NaN\n",
       "456  2021/4/16            4519         NaN        NaN\n",
       "457  2021/4/17            4722         NaN        NaN\n",
       "458  2021/4/18            4032         NaN        NaN"
      ]
     },
     "execution_count": 16,
     "metadata": {},
     "output_type": "execute_result"
    }
   ],
   "source": [
    "pcr_positive = pd.read_csv(\"COVID-19-jp/pcr_positive_daily.csv\")\n",
    "pcr_positive.tail()"
   ]
  },
  {
   "cell_type": "code",
   "execution_count": 8,
   "metadata": {},
   "outputs": [
    {
     "name": "stdout",
     "output_type": "stream",
     "text": [
      "0\n",
      "0\n"
     ]
    }
   ],
   "source": [
    "print(pcr_positive[\"日付\"].isnull().sum())\n",
    "print(pcr_positive[\"PCR 検査陽性者数(単日)\"].isnull().sum())"
   ]
  },
  {
   "cell_type": "code",
   "execution_count": 10,
   "metadata": {},
   "outputs": [
    {
     "data": {
      "text/html": [
       "<div>\n",
       "<style scoped>\n",
       "    .dataframe tbody tr th:only-of-type {\n",
       "        vertical-align: middle;\n",
       "    }\n",
       "\n",
       "    .dataframe tbody tr th {\n",
       "        vertical-align: top;\n",
       "    }\n",
       "\n",
       "    .dataframe thead th {\n",
       "        text-align: right;\n",
       "    }\n",
       "</style>\n",
       "<table border=\"1\" class=\"dataframe\">\n",
       "  <thead>\n",
       "    <tr style=\"text-align: right;\">\n",
       "      <th></th>\n",
       "      <th>Unnamed: 0</th>\n",
       "      <th>PCR検査\\n実施人数 ※3</th>\n",
       "      <th>陽性者数</th>\n",
       "      <th>入院治療等を要する者の数</th>\n",
       "      <th>うち重症者の数</th>\n",
       "      <th>退院又は療養解除と\\nなった者の数</th>\n",
       "      <th>死亡者数</th>\n",
       "      <th>確認中 ※4</th>\n",
       "    </tr>\n",
       "  </thead>\n",
       "  <tbody>\n",
       "    <tr>\n",
       "      <th>0</th>\n",
       "      <td>国内事例 ※1,※5\\n(チャーター便帰国\\n者を除く)</td>\n",
       "      <td>10,296,311\\n(+30,571)</td>\n",
       "      <td>531,466\\n(+4,032) ※2</td>\n",
       "      <td>40,425\\n(+1,825)</td>\n",
       "      <td>738\\n(+15) ※6</td>\n",
       "      <td>480,632\\n(+2,259)</td>\n",
       "      <td>9,638\\n(+19)</td>\n",
       "      <td>1,125\\n(+48)</td>\n",
       "    </tr>\n",
       "    <tr>\n",
       "      <th>1</th>\n",
       "      <td>空港,海港検疫</td>\n",
       "      <td>621,807\\n(+1,628) ※7</td>\n",
       "      <td>2,571\\n(+４)</td>\n",
       "      <td>163\\n(+４)</td>\n",
       "      <td>0</td>\n",
       "      <td>2,405</td>\n",
       "      <td>3</td>\n",
       "      <td>0</td>\n",
       "    </tr>\n",
       "    <tr>\n",
       "      <th>2</th>\n",
       "      <td>チャーター便\\n帰国者事例</td>\n",
       "      <td>829</td>\n",
       "      <td>15</td>\n",
       "      <td>0</td>\n",
       "      <td>0</td>\n",
       "      <td>15</td>\n",
       "      <td>0</td>\n",
       "      <td>0</td>\n",
       "    </tr>\n",
       "    <tr>\n",
       "      <th>3</th>\n",
       "      <td>合計</td>\n",
       "      <td>10,918,947\\n(+32,199)</td>\n",
       "      <td>534,052\\n(+4,733) ※2</td>\n",
       "      <td>40,588\\n(+1,829)</td>\n",
       "      <td>738\\n(+15) ※6</td>\n",
       "      <td>483,052\\n(+2,259)</td>\n",
       "      <td>9,641\\n(+19)</td>\n",
       "      <td>1,125\\n(+48)</td>\n",
       "    </tr>\n",
       "  </tbody>\n",
       "</table>\n",
       "</div>"
      ],
      "text/plain": [
       "                     Unnamed: 0         PCR検査\\n実施人数 ※3                  陽性者数  \\\n",
       "0  国内事例 ※1,※5\\n(チャーター便帰国\\n者を除く)  10,296,311\\n(+30,571)  531,466\\n(+4,032) ※2   \n",
       "1                       空港,海港検疫   621,807\\n(+1,628) ※7           2,571\\n(+４)   \n",
       "2                 チャーター便\\n帰国者事例                    829                    15   \n",
       "3                            合計  10,918,947\\n(+32,199)  534,052\\n(+4,733) ※2   \n",
       "\n",
       "       入院治療等を要する者の数        うち重症者の数  退院又は療養解除と\\nなった者の数          死亡者数  \\\n",
       "0  40,425\\n(+1,825)  738\\n(+15) ※6  480,632\\n(+2,259)  9,638\\n(+19)   \n",
       "1         163\\n(+４)              0              2,405             3   \n",
       "2                 0              0                 15             0   \n",
       "3  40,588\\n(+1,829)  738\\n(+15) ※6  483,052\\n(+2,259)  9,641\\n(+19)   \n",
       "\n",
       "         確認中 ※4  \n",
       "0  1,125\\n(+48)  \n",
       "1             0  \n",
       "2             0  \n",
       "3  1,125\\n(+48)  "
      ]
     },
     "execution_count": 10,
     "metadata": {},
     "output_type": "execute_result"
    }
   ],
   "source": [
    "current_situation = pd.read_csv(\"COVID-19-jp/current_situation.csv\")\n",
    "current_situation"
   ]
  },
  {
   "cell_type": "code",
   "execution_count": 11,
   "metadata": {},
   "outputs": [
    {
     "data": {
      "text/html": [
       "<div>\n",
       "<style scoped>\n",
       "    .dataframe tbody tr th:only-of-type {\n",
       "        vertical-align: middle;\n",
       "    }\n",
       "\n",
       "    .dataframe tbody tr th {\n",
       "        vertical-align: top;\n",
       "    }\n",
       "\n",
       "    .dataframe thead th {\n",
       "        text-align: right;\n",
       "    }\n",
       "</style>\n",
       "<table border=\"1\" class=\"dataframe\">\n",
       "  <thead>\n",
       "    <tr style=\"text-align: right;\">\n",
       "      <th></th>\n",
       "      <th>日付</th>\n",
       "      <th>入院治療を要する者</th>\n",
       "    </tr>\n",
       "  </thead>\n",
       "  <tbody>\n",
       "    <tr>\n",
       "      <th>0</th>\n",
       "      <td>2020/2/4</td>\n",
       "      <td>15</td>\n",
       "    </tr>\n",
       "    <tr>\n",
       "      <th>1</th>\n",
       "      <td>2020/2/5</td>\n",
       "      <td>16</td>\n",
       "    </tr>\n",
       "    <tr>\n",
       "      <th>2</th>\n",
       "      <td>2020/2/6</td>\n",
       "      <td>12</td>\n",
       "    </tr>\n",
       "    <tr>\n",
       "      <th>3</th>\n",
       "      <td>2020/2/7</td>\n",
       "      <td>12</td>\n",
       "    </tr>\n",
       "    <tr>\n",
       "      <th>4</th>\n",
       "      <td>2020/2/8</td>\n",
       "      <td>7</td>\n",
       "    </tr>\n",
       "  </tbody>\n",
       "</table>\n",
       "</div>"
      ],
      "text/plain": [
       "         日付  入院治療を要する者\n",
       "0  2020/2/4         15\n",
       "1  2020/2/5         16\n",
       "2  2020/2/6         12\n",
       "3  2020/2/7         12\n",
       "4  2020/2/8          7"
      ]
     },
     "execution_count": 11,
     "metadata": {},
     "output_type": "execute_result"
    }
   ],
   "source": [
    "cases_total = pd.read_csv(\"COVID-19-jp/cases_total.csv\")\n",
    "cases_total.head()"
   ]
  },
  {
   "cell_type": "code",
   "execution_count": 12,
   "metadata": {},
   "outputs": [
    {
     "name": "stdout",
     "output_type": "stream",
     "text": [
      "0\n",
      "0\n"
     ]
    }
   ],
   "source": [
    "print(cases_total[\"日付\"].isnull().sum())\n",
    "print(cases_total[\"入院治療を要する者\"].isnull().sum())\n"
   ]
  },
  {
   "cell_type": "code",
   "execution_count": 15,
   "metadata": {},
   "outputs": [
    {
     "data": {
      "text/html": [
       "<div>\n",
       "<style scoped>\n",
       "    .dataframe tbody tr th:only-of-type {\n",
       "        vertical-align: middle;\n",
       "    }\n",
       "\n",
       "    .dataframe tbody tr th {\n",
       "        vertical-align: top;\n",
       "    }\n",
       "\n",
       "    .dataframe thead th {\n",
       "        text-align: right;\n",
       "    }\n",
       "</style>\n",
       "<table border=\"1\" class=\"dataframe\">\n",
       "  <thead>\n",
       "    <tr style=\"text-align: right;\">\n",
       "      <th></th>\n",
       "      <th>日付</th>\n",
       "      <th>死亡者数</th>\n",
       "    </tr>\n",
       "  </thead>\n",
       "  <tbody>\n",
       "    <tr>\n",
       "      <th>425</th>\n",
       "      <td>2021/4/14</td>\n",
       "      <td>9497</td>\n",
       "    </tr>\n",
       "    <tr>\n",
       "      <th>426</th>\n",
       "      <td>2021/4/15</td>\n",
       "      <td>9535</td>\n",
       "    </tr>\n",
       "    <tr>\n",
       "      <th>427</th>\n",
       "      <td>2021/4/16</td>\n",
       "      <td>9581</td>\n",
       "    </tr>\n",
       "    <tr>\n",
       "      <th>428</th>\n",
       "      <td>2021/4/17</td>\n",
       "      <td>9619</td>\n",
       "    </tr>\n",
       "    <tr>\n",
       "      <th>429</th>\n",
       "      <td>2021/4/18</td>\n",
       "      <td>9638</td>\n",
       "    </tr>\n",
       "  </tbody>\n",
       "</table>\n",
       "</div>"
      ],
      "text/plain": [
       "            日付  死亡者数\n",
       "425  2021/4/14  9497\n",
       "426  2021/4/15  9535\n",
       "427  2021/4/16  9581\n",
       "428  2021/4/17  9619\n",
       "429  2021/4/18  9638"
      ]
     },
     "execution_count": 15,
     "metadata": {},
     "output_type": "execute_result"
    }
   ],
   "source": [
    "death_total = pd.read_csv(\"COVID-19-jp/death_total.csv\")\n",
    "death_total.tail()"
   ]
  },
  {
   "cell_type": "code",
   "execution_count": 17,
   "metadata": {},
   "outputs": [
    {
     "name": "stdout",
     "output_type": "stream",
     "text": [
      "0\n",
      "0\n"
     ]
    }
   ],
   "source": [
    "print(death_total[\"日付\"].isnull().sum())\n",
    "print(death_total[\"死亡者数\"].isnull().sum())"
   ]
  },
  {
   "cell_type": "code",
   "execution_count": 19,
   "metadata": {},
   "outputs": [
    {
     "data": {
      "text/html": [
       "<div>\n",
       "<style scoped>\n",
       "    .dataframe tbody tr th:only-of-type {\n",
       "        vertical-align: middle;\n",
       "    }\n",
       "\n",
       "    .dataframe tbody tr th {\n",
       "        vertical-align: top;\n",
       "    }\n",
       "\n",
       "    .dataframe thead th {\n",
       "        text-align: right;\n",
       "    }\n",
       "</style>\n",
       "<table border=\"1\" class=\"dataframe\">\n",
       "  <thead>\n",
       "    <tr style=\"text-align: right;\">\n",
       "      <th></th>\n",
       "      <th>日付</th>\n",
       "      <th>国立感染症研究所</th>\n",
       "      <th>検疫所</th>\n",
       "      <th>地方衛生研究所・保健所</th>\n",
       "      <th>民間検査会社</th>\n",
       "      <th>大学等</th>\n",
       "      <th>医療機関</th>\n",
       "    </tr>\n",
       "  </thead>\n",
       "  <tbody>\n",
       "    <tr>\n",
       "      <th>420</th>\n",
       "      <td>2021/4/13</td>\n",
       "      <td>0</td>\n",
       "      <td>0</td>\n",
       "      <td>5631</td>\n",
       "      <td>32213.0</td>\n",
       "      <td>4177.0</td>\n",
       "      <td>21790.0</td>\n",
       "    </tr>\n",
       "    <tr>\n",
       "      <th>421</th>\n",
       "      <td>2021/4/14</td>\n",
       "      <td>0</td>\n",
       "      <td>0</td>\n",
       "      <td>4035</td>\n",
       "      <td>37481.0</td>\n",
       "      <td>3952.0</td>\n",
       "      <td>19303.0</td>\n",
       "    </tr>\n",
       "    <tr>\n",
       "      <th>422</th>\n",
       "      <td>2021/4/15</td>\n",
       "      <td>0</td>\n",
       "      <td>0</td>\n",
       "      <td>4837</td>\n",
       "      <td>27611.0</td>\n",
       "      <td>2782.0</td>\n",
       "      <td>14890.0</td>\n",
       "    </tr>\n",
       "    <tr>\n",
       "      <th>423</th>\n",
       "      <td>2021/4/16</td>\n",
       "      <td>0</td>\n",
       "      <td>0</td>\n",
       "      <td>4339</td>\n",
       "      <td>NaN</td>\n",
       "      <td>NaN</td>\n",
       "      <td>NaN</td>\n",
       "    </tr>\n",
       "    <tr>\n",
       "      <th>424</th>\n",
       "      <td>2021/4/17</td>\n",
       "      <td>0</td>\n",
       "      <td>0</td>\n",
       "      <td>2141</td>\n",
       "      <td>NaN</td>\n",
       "      <td>NaN</td>\n",
       "      <td>NaN</td>\n",
       "    </tr>\n",
       "  </tbody>\n",
       "</table>\n",
       "</div>"
      ],
      "text/plain": [
       "            日付  国立感染症研究所  検疫所  地方衛生研究所・保健所   民間検査会社     大学等     医療機関\n",
       "420  2021/4/13         0    0         5631  32213.0  4177.0  21790.0\n",
       "421  2021/4/14         0    0         4035  37481.0  3952.0  19303.0\n",
       "422  2021/4/15         0    0         4837  27611.0  2782.0  14890.0\n",
       "423  2021/4/16         0    0         4339      NaN     NaN      NaN\n",
       "424  2021/4/17         0    0         2141      NaN     NaN      NaN"
      ]
     },
     "execution_count": 19,
     "metadata": {},
     "output_type": "execute_result"
    }
   ],
   "source": [
    "pcr_case_daily = pd.read_csv(\"COVID-19-jp/pcr_case_daily.csv\")\n",
    "pcr_case_daily.tail()"
   ]
  },
  {
   "cell_type": "code",
   "execution_count": 20,
   "metadata": {},
   "outputs": [
    {
     "name": "stdout",
     "output_type": "stream",
     "text": [
      "0\n",
      "0\n",
      "0\n",
      "0\n",
      "2\n",
      "2\n",
      "19\n"
     ]
    }
   ],
   "source": [
    "print(pcr_case_daily[\"日付\"].isnull().sum())\n",
    "print(pcr_case_daily[\"国立感染症研究所\"].isnull().sum())\n",
    "print(pcr_case_daily[\"検疫所\"].isnull().sum())\n",
    "print(pcr_case_daily[\"地方衛生研究所・保健所\"].isnull().sum())\n",
    "print(pcr_case_daily[\"民間検査会社\"].isnull().sum())\n",
    "print(pcr_case_daily[\"大学等\"].isnull().sum())\n",
    "print(pcr_case_daily[\"医療機関\"].isnull().sum())\n"
   ]
  },
  {
   "cell_type": "code",
   "execution_count": 22,
   "metadata": {},
   "outputs": [
    {
     "data": {
      "text/html": [
       "<div>\n",
       "<style scoped>\n",
       "    .dataframe tbody tr th:only-of-type {\n",
       "        vertical-align: middle;\n",
       "    }\n",
       "\n",
       "    .dataframe tbody tr th {\n",
       "        vertical-align: top;\n",
       "    }\n",
       "\n",
       "    .dataframe thead th {\n",
       "        text-align: right;\n",
       "    }\n",
       "</style>\n",
       "<table border=\"1\" class=\"dataframe\">\n",
       "  <thead>\n",
       "    <tr style=\"text-align: right;\">\n",
       "      <th></th>\n",
       "      <th>日付</th>\n",
       "      <th>退院、療養解除となった者</th>\n",
       "    </tr>\n",
       "  </thead>\n",
       "  <tbody>\n",
       "    <tr>\n",
       "      <th>441</th>\n",
       "      <td>2021/4/14</td>\n",
       "      <td>471170</td>\n",
       "    </tr>\n",
       "    <tr>\n",
       "      <th>442</th>\n",
       "      <td>2021/4/15</td>\n",
       "      <td>473345</td>\n",
       "    </tr>\n",
       "    <tr>\n",
       "      <th>443</th>\n",
       "      <td>2021/4/16</td>\n",
       "      <td>475966</td>\n",
       "    </tr>\n",
       "    <tr>\n",
       "      <th>444</th>\n",
       "      <td>2021/4/17</td>\n",
       "      <td>478373</td>\n",
       "    </tr>\n",
       "    <tr>\n",
       "      <th>445</th>\n",
       "      <td>2021/4/18</td>\n",
       "      <td>480632</td>\n",
       "    </tr>\n",
       "  </tbody>\n",
       "</table>\n",
       "</div>"
      ],
      "text/plain": [
       "            日付  退院、療養解除となった者\n",
       "441  2021/4/14        471170\n",
       "442  2021/4/15        473345\n",
       "443  2021/4/16        475966\n",
       "444  2021/4/17        478373\n",
       "445  2021/4/18        480632"
      ]
     },
     "execution_count": 22,
     "metadata": {},
     "output_type": "execute_result"
    }
   ],
   "source": [
    "recovery_total = pd.read_csv(\"COVID-19-jp/recovery_total.csv\")\n",
    "recovery_total.tail()"
   ]
  },
  {
   "cell_type": "code",
   "execution_count": 23,
   "metadata": {},
   "outputs": [
    {
     "name": "stdout",
     "output_type": "stream",
     "text": [
      "0\n",
      "0\n"
     ]
    }
   ],
   "source": [
    "print(recovery_total[\"日付\"].isnull().sum())\n",
    "print(recovery_total[\"退院、療養解除となった者\"].isnull().sum())"
   ]
  },
  {
   "cell_type": "code",
   "execution_count": 24,
   "metadata": {},
   "outputs": [
    {
     "data": {
      "text/html": [
       "<div>\n",
       "<style scoped>\n",
       "    .dataframe tbody tr th:only-of-type {\n",
       "        vertical-align: middle;\n",
       "    }\n",
       "\n",
       "    .dataframe tbody tr th {\n",
       "        vertical-align: top;\n",
       "    }\n",
       "\n",
       "    .dataframe thead th {\n",
       "        text-align: right;\n",
       "    }\n",
       "</style>\n",
       "<table border=\"1\" class=\"dataframe\">\n",
       "  <thead>\n",
       "    <tr style=\"text-align: right;\">\n",
       "      <th></th>\n",
       "      <th>日付</th>\n",
       "      <th>重症者数</th>\n",
       "    </tr>\n",
       "  </thead>\n",
       "  <tbody>\n",
       "    <tr>\n",
       "      <th>431</th>\n",
       "      <td>2021/4/11</td>\n",
       "      <td>563</td>\n",
       "    </tr>\n",
       "    <tr>\n",
       "      <th>432</th>\n",
       "      <td>2021/4/12</td>\n",
       "      <td>596</td>\n",
       "    </tr>\n",
       "    <tr>\n",
       "      <th>433</th>\n",
       "      <td>2021/4/13</td>\n",
       "      <td>608</td>\n",
       "    </tr>\n",
       "    <tr>\n",
       "      <th>434</th>\n",
       "      <td>2021/4/14</td>\n",
       "      <td>631</td>\n",
       "    </tr>\n",
       "    <tr>\n",
       "      <th>435</th>\n",
       "      <td>2021/4/15</td>\n",
       "      <td>670</td>\n",
       "    </tr>\n",
       "  </tbody>\n",
       "</table>\n",
       "</div>"
      ],
      "text/plain": [
       "            日付  重症者数\n",
       "431  2021/4/11   563\n",
       "432  2021/4/12   596\n",
       "433  2021/4/13   608\n",
       "434  2021/4/14   631\n",
       "435  2021/4/15   670"
      ]
     },
     "execution_count": 24,
     "metadata": {},
     "output_type": "execute_result"
    }
   ],
   "source": [
    "severe_daily = pd.read_csv(\"COVID-19-jp/20210417/severe_daily.csv\")\n",
    "severe_daily.tail()"
   ]
  },
  {
   "cell_type": "code",
   "execution_count": 38,
   "metadata": {},
   "outputs": [
    {
     "name": "stdout",
     "output_type": "stream",
     "text": [
      "0\n",
      "0\n"
     ]
    }
   ],
   "source": [
    "print(severe_daily[\"日付\"].isnull().sum())\n",
    "print(severe_daily[\"重症者数\"].isnull().sum())"
   ]
  },
  {
   "cell_type": "code",
   "execution_count": null,
   "metadata": {},
   "outputs": [],
   "source": []
  }
 ],
 "metadata": {
  "kernelspec": {
   "display_name": "Python 3",
   "language": "python",
   "name": "python3"
  },
  "language_info": {
   "codemirror_mode": {
    "name": "ipython",
    "version": 3
   },
   "file_extension": ".py",
   "mimetype": "text/x-python",
   "name": "python",
   "nbconvert_exporter": "python",
   "pygments_lexer": "ipython3",
   "version": "3.7.6"
  }
 },
 "nbformat": 4,
 "nbformat_minor": 4
}
